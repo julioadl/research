{
 "cells": [
  {
   "cell_type": "code",
   "execution_count": 2,
   "metadata": {},
   "outputs": [],
   "source": [
    "import pandas as pd\n",
    "import matplotlib.pyplot as plt\n",
    "from datetime import datetime, timedelta\n",
    "import matplotlib.dates as mdates\n",
    "import numpy as np\n",
    "import nltk\n",
    "from nltk.tokenize.casual import casual_tokenize as tokenizer\n",
    "from nltk.corpus import stopwords\n",
    "from sklearn.cluster import KMeans\n",
    "from sklearn import metrics\n",
    "from scipy.spatial.distance import cdist\n",
    "import numpy as np\n",
    "import seaborn as sns\n",
    "from sklearn.feature_extraction.text import TfidfTransformer\n",
    "from nltk.tokenize import TweetTokenizer\n",
    "from sklearn.feature_extraction.text import TfidfVectorizer\n",
    "from collections import Counter\n",
    "import operator\n",
    "import re\n",
    "import itertools\n",
    "from sklearn.metrics.pairwise import euclidean_distances\n",
    "from random import randint"
   ]
  },
  {
   "cell_type": "code",
   "execution_count": 3,
   "metadata": {},
   "outputs": [],
   "source": [
    "# import Original data\n",
    "OG_data = pd.read_csv('Vigiglobe2-1.csv')"
   ]
  },
  {
   "cell_type": "code",
   "execution_count": 59,
   "metadata": {
    "collapsed": true
   },
   "outputs": [
    {
     "name": "stdout",
     "output_type": "stream",
     "text": [
      "IRAhandle_tweets_1.csv\n",
      "IRAhandle_tweets_2.csv\n",
      "IRAhandle_tweets_3.csv\n",
      "IRAhandle_tweets_4.csv\n",
      "IRAhandle_tweets_6.csv\n",
      "IRAhandle_tweets_7.csv\n"
     ]
    },
    {
     "name": "stderr",
     "output_type": "stream",
     "text": [
      "/Users/helene/anaconda3/lib/python3.6/site-packages/IPython/core/interactiveshell.py:2728: DtypeWarning: Columns (10,20) have mixed types. Specify dtype option on import or set low_memory=False.\n",
      "  interactivity=interactivity, compiler=compiler, result=result)\n"
     ]
    },
    {
     "name": "stdout",
     "output_type": "stream",
     "text": [
      "IRAhandle_tweets_12.csv\n",
      "IRAhandle_tweets_13.csv\n"
     ]
    }
   ],
   "source": [
    "# import all 13 files \n",
    "# some files broken, import manually\n",
    "all_files = []\n",
    "l = list(range(1, 13))\n",
    "for i in l: \n",
    "    j = 'IRAhandle_tweets_'+ str(i) + '.csv'\n",
    "    all_files.append(j)\n",
    "all_files\n",
    "\n",
    "frame = pd.DataFrame()\n",
    "list_ = []\n",
    "for file in all_files:\n",
    "    df = pd.read_csv(file)\n",
    "    list_.append(df)\n",
    "    print(file)\n",
    "frame = pd.concat(list_)"
   ]
  },
  {
   "cell_type": "code",
   "execution_count": 4,
   "metadata": {},
   "outputs": [],
   "source": [
    "# import if other import doens't work\n",
    "f = pd.read_csv('IRAhandle_tweets_1.csv')\n",
    "s = pd.read_csv('IRAhandle_tweets_2.csv')\n",
    "t = pd.read_csv('IRAhandle_tweets_3.csv')\n",
    "fo = pd.read_csv('IRAhandle_tweets_4.csv')\n",
    "fi = pd.read_excel('IRAhandle_tweets_5_XL.xls')\n",
    "si = pd.read_csv('IRAhandle_tweets_6.csv')\n",
    "se = pd.read_csv('IRAhandle_tweets_7.csv')\n",
    "ei = pd.read_csv('IRAhandle_tweets_8.csv')\n",
    "ni = pd.read_csv('IRAhandle_tweets_9.csv')\n",
    "ten = pd.read_excel('IRAhandle_tweets_10_XL.xls')\n",
    "el = pd.read_csv('IRAhandle_tweets_11.csv')\n",
    "tw = pd.read_excel('IRAhandle_tweets_12_XL.xlsx')\n",
    "th = pd.read_csv('IRAhandle_tweets_13.csv')\n",
    "frame = pd.concat([f, s, t, fo, fi, si, se, ei, ni, ten, el, tw, th])"
   ]
  },
  {
   "cell_type": "code",
   "execution_count": 5,
   "metadata": {},
   "outputs": [],
   "source": [
    "# creates a set of all account names in the brexit and bot data set\n",
    "# make everything lower case as bot data is caps only\n",
    "\n",
    "screen_names = set(list(OG_data['screen_name']))\n",
    "russia_acc = set(list(frame['author']))\n",
    "russia_acc_low = [x.lower() for x in russia_acc]\n",
    "screen_name_low = [str(x).lower() for x in screen_names]\n",
    "OG_data['screen_name_low'] = OG_data['screen_name'].str.lower() # make name in OG date lowerstring "
   ]
  },
  {
   "cell_type": "code",
   "execution_count": 6,
   "metadata": {},
   "outputs": [],
   "source": [
    "# create list of all bots account in brexit data\n",
    "# it is all lower case. remember when merging\n",
    "# loops over the brexit account names and adds the ones that are in the bot data to a list\n",
    "# output is list containing all bot accounts in the brexit data\n",
    "bot_acc = []\n",
    "for i in screen_name_low:\n",
    "    if i in russia_acc_low:\n",
    "        bot_acc.append(i) # list of bots in data set"
   ]
  },
  {
   "cell_type": "code",
   "execution_count": 7,
   "metadata": {
    "scrolled": true
   },
   "outputs": [],
   "source": [
    "# brexit data with binary bot column\n",
    "bot_df = pd.DataFrame(bot_acc)\n",
    "bot_df['bot'] = 1 \n",
    "bot_df.columns = ['screen_name_low', 'bot'] # dataframe with all UK accoutns that are bots\n",
    "OG_data_bots = OG_data.merge(bot_df, \"left\", on = 'screen_name_low') # OG data with bot column"
   ]
  },
  {
   "cell_type": "code",
   "execution_count": 8,
   "metadata": {},
   "outputs": [],
   "source": [
    "# russia data set\n",
    "frame['screen_name_low'] = frame['author'].str.lower()\n",
    "# only select russian accounts that are in Brexit data, otherwise later too big to merge\n",
    "russia_UK_bots = frame.merge(bot_df, \"left\", on = 'screen_name_low') # russia data with bot column for UK accounts\n",
    "russia_UK_bots = russia_UK_bots[russia_UK_bots['bot'] == 1] # keep only accounts that are also in brexit data"
   ]
  },
  {
   "cell_type": "markdown",
   "metadata": {},
   "source": [
    "Problem with merging the russia and brexit tweets: the text is different - can't find common texts\n",
    "\n",
    "when selecting only the accounts in the russia bot df that are also brexit accounts there are still 923k tweets left in the russia df. But: only 778 of those tweets are also in the brexit data. "
   ]
  },
  {
   "cell_type": "code",
   "execution_count": 11,
   "metadata": {},
   "outputs": [],
   "source": [
    "# found two NA values in text from the orgiginal data. should have deleted at the beginning but didnt see therefore deleting now\n",
    "OG_data_bots = OG_data_bots[OG_data_bots['text'].notnull()]\n",
    "# counts: number of times tweet appears, ergo number of times tweet gets retweeted or reposted\n",
    "counts = pd.DataFrame(OG_data_bots.groupby('text').size().reset_index(name='counts'))\n",
    "# merge counts data frame to OG data frame\n",
    "OG_data_bots = OG_data_bots.merge(counts, 'left', on = 'text')\n",
    "\n",
    "# bot: binary column with 1 if it's a bot account and 0 if not\n",
    "OG_data_bots['bot'].fillna(0, inplace=True)"
   ]
  },
  {
   "cell_type": "code",
   "execution_count": 23,
   "metadata": {},
   "outputs": [],
   "source": [
    "# identify person who first tweeted\n",
    "# data sorted by tweet and time, and only person who first posted the tweet is marked as the original tweeter\n",
    "# or when it has 0 retweets it is an original poster as well \n",
    "OG_tweeter = OG_data_bots.sort_values(['text', 'timestamp']).groupby('text').nth(0).reset_index()\n",
    "OG_tweeter['OG'] = 1\n",
    "OG_tweeter.loc[OG_tweeter['retweets'] >0, 'OG'] = 0\n",
    "OG_tweet = OG_tweeter[['text', 'screen_name', 'OG']]"
   ]
  },
  {
   "cell_type": "code",
   "execution_count": 26,
   "metadata": {},
   "outputs": [],
   "source": [
    "# add the OG poster column to the data\n",
    "bots = OG_data_bots.merge(OG_tweet, how = 'left', on = ['text', 'screen_name'])\n",
    "# replace NA with 0 and add that if retweets = 0 then OG = 1 (normally not needed but just to make sure)\n",
    "bots['OG'].fillna(0, inplace=True)\n",
    "bots.loc[bots['retweets'] == 0, 'OG'] = 1"
   ]
  },
  {
   "cell_type": "code",
   "execution_count": 41,
   "metadata": {},
   "outputs": [],
   "source": [
    "# save the new data set \n",
    "bots_UK_russia_csv = bots.copy()\n",
    "bots_UK_russia_csv['text'] = bots_UK_russia_csv['text'].str.replace('\\r', ' ')\n",
    "bots_UK_russia_csv.to_csv('bots_UK_russia.csv', index = False)"
   ]
  },
  {
   "cell_type": "markdown",
   "metadata": {},
   "source": [
    "# EDA UK"
   ]
  },
  {
   "cell_type": "code",
   "execution_count": 42,
   "metadata": {},
   "outputs": [],
   "source": [
    "# data set with only bots\n",
    "only_bots = bots[bots['bot'] == 1]\n",
    "only_bots['date'], only_bots['time'] = only_bots['timestamp'].str.split('T',1).str\n",
    "only_bots['date'] = pd.to_datetime(only_bots['date'])"
   ]
  },
  {
   "cell_type": "markdown",
   "metadata": {},
   "source": [
    "### Number of OG tweets and retweets for bots"
   ]
  },
  {
   "cell_type": "code",
   "execution_count": 64,
   "metadata": {},
   "outputs": [
    {
     "name": "stdout",
     "output_type": "stream",
     "text": [
      " Bot as OG tweeter: 441 Bot as Retweet: 317\n"
     ]
    }
   ],
   "source": [
    "# how many are OG tweets\n",
    "print(' Bot as OG tweeter:', len(only_bots[only_bots['OG'] == 1]), 'Bot as Retweet:', len(only_bots[only_bots['OG'] == 0]))"
   ]
  },
  {
   "cell_type": "markdown",
   "metadata": {},
   "source": [
    "### Number of tweets, retweets and reposts of bots over timeperiod"
   ]
  },
  {
   "cell_type": "code",
   "execution_count": 55,
   "metadata": {},
   "outputs": [],
   "source": [
    "# plot the bots\n",
    "def time_barplot (data, timeperiode):\n",
    "    # for timeperiode put in \"month\" or \"week\"\n",
    "    if timeperiode == 'day':\n",
    "        p = ''\n",
    "    if timeperiode == 'month':\n",
    "        p = '%m'\n",
    "    if timeperiode == 'week':\n",
    "        p = '%U'\n",
    "\n",
    "    ax = data.groupby(['bot', data['date'].dt.strftime(p)])['date'].count().unstack(0).plot.bar(title=\"Number of bots per \" + timeperiode, figsize=(14,8))\n",
    "    _ = ax.set_xlabel(timeperiode)\n",
    "    _ = ax.set_ylabel('bot count')\n",
    "    mylabels = ['bot', 'bot']\n",
    "    _ = ax.legend(labels=mylabels)\n",
    "    plt.show()"
   ]
  },
  {
   "cell_type": "code",
   "execution_count": 68,
   "metadata": {},
   "outputs": [
    {
     "data": {
      "image/png": "[encoded data removed]",
      "text/plain": [
       "<matplotlib.figure.Figure at 0x1bb2bb1ac8>"
      ]
     },
     "metadata": {},
     "output_type": "display_data"
    }
   ],
   "source": [
    "time_barplot(only_bots, 'day')"
   ]
  },
  {
   "cell_type": "markdown",
   "metadata": {},
   "source": [
    "[Interesing to see that highest bot activity happened after the brexit vote. ]"
   ]
  },
  {
   "cell_type": "markdown",
   "metadata": {},
   "source": [
    "### Number of bots per timeperiod devided into OG or not retweet"
   ]
  },
  {
   "cell_type": "code",
   "execution_count": 148,
   "metadata": {},
   "outputs": [],
   "source": [
    "# original poster versus retweeter\n",
    "def OG_barplot (data, timeperiode):\n",
    "    # for timeperiode put in \"month\" or \"week\"\n",
    "    if timeperiode == 'day':\n",
    "        p = ''\n",
    "    if timeperiode == 'month':\n",
    "        p = '%m'\n",
    "    if timeperiode == 'week':\n",
    "        p = '%U'\n",
    "\n",
    "    ax = data.groupby(['OG', data['date'].dt.strftime(p)])['date'].count().unstack(0).plot.bar(title=\"Number of bots per \" + timeperiode, figsize=(14,8))\n",
    "    _ = ax.set_xlabel(timeperiode)\n",
    "    _ = ax.set_ylabel('bot count')\n",
    "    mylabels = ['retweet', 'OG tweeter']\n",
    "    _ = ax.legend(labels=mylabels)\n",
    "    plt.show()"
   ]
  },
  {
   "cell_type": "code",
   "execution_count": 150,
   "metadata": {},
   "outputs": [
    {
     "data": {
      "image/png": "[encoded data removed]",
      "text/plain": [
       "<matplotlib.figure.Figure at 0x1ed605b4e0>"
      ]
     },
     "metadata": {},
     "output_type": "display_data"
    }
   ],
   "source": [
    "OG_barplot(only_bots, 'month')"
   ]
  },
  {
   "cell_type": "markdown",
   "metadata": {},
   "source": [
    "### Retweets and reposts across bot and not bot accounts\n",
    "\n",
    "[When saying that a bot is involved in the communication I mean that a bot has either started a tweet or retweeted a tweet]"
   ]
  },
  {
   "cell_type": "code",
   "execution_count": 67,
   "metadata": {},
   "outputs": [
    {
     "name": "stdout",
     "output_type": "stream",
     "text": [
      "average number of retweets/reposts when bot is OG tweeter: 9.6\n",
      "average number of retweets/reposts when bot is not OG tweeter, but bot involved in communication: 305.38\n",
      "average number of retweets/reposts across whole data set 889.55\n"
     ]
    }
   ],
   "source": [
    "# average number of retweets/reposts \n",
    "print('average number of retweets/reposts when bot is OG tweeter:',\n",
    "     round(np.mean(only_bots['counts'][only_bots['OG'] == 1]), 2))\n",
    "print('average number of retweets/reposts when bot is not OG tweeter, but bot involved in communication:',\n",
    "     round(np.mean(only_bots['counts'][only_bots['OG'] == 0]), 2))\n",
    "print('average number of retweets/reposts across whole data set',\n",
    "     round(np.mean(bots['counts']), 2))"
   ]
  },
  {
   "cell_type": "markdown",
   "metadata": {},
   "source": [
    "### Bot account total activity"
   ]
  },
  {
   "cell_type": "code",
   "execution_count": 86,
   "metadata": {},
   "outputs": [
    {
     "data": {
      "image/png": "[encoded data removed]",
      "text/plain": [
       "<matplotlib.figure.Figure at 0x1ea9e9d748>"
      ]
     },
     "metadata": {},
     "output_type": "display_data"
    }
   ],
   "source": [
    "# number of tweets and retweets per bot account\n",
    "ax = only_bots['screen_name'].value_counts().sort_values(ascending = False)[:15].plot.bar(title=\"Number of tweets and retweets per bot account (top 15)\", figsize=(14,8))\n",
    "_ = ax.set_xlabel('account name')\n",
    "_ = ax.set_ylabel('tweet / retweet count')\n",
    "plt.show()"
   ]
  },
  {
   "cell_type": "markdown",
   "metadata": {},
   "source": [
    "### Original tweet vs. retweet per bot accounts"
   ]
  },
  {
   "cell_type": "code",
   "execution_count": 143,
   "metadata": {},
   "outputs": [
    {
     "data": {
      "image/png": "[encoded data removed]",
      "text/plain": [
       "<matplotlib.figure.Figure at 0x1da45234e0>"
      ]
     },
     "metadata": {},
     "output_type": "display_data"
    }
   ],
   "source": [
    "## number of tweets or retweets per bot account\n",
    "# if sort_values(1.0,ascending = False) is replaced with sort_values(0.0,ascending = False) values are sorted by retweets\n",
    "ax = only_bots.groupby(['OG', 'screen_name'])['screen_name'].count().unstack(0).sort_values(1.0,ascending = False)[:20].plot.bar(title=\"Number of bots devided into original post or retweet per account\", figsize=(14,8))\n",
    "_ = ax.set_xlabel('account name')\n",
    "_ = ax.set_ylabel('bot count')\n",
    "mylabels = ['retweet', 'OG tweeter']\n",
    "_ = ax.legend(labels=mylabels)\n",
    "plt.show()"
   ]
  },
  {
   "cell_type": "code",
   "execution_count": 165,
   "metadata": {},
   "outputs": [],
   "source": [
    "# add a counter for the number of accounts with the tweet that are bot accounts. \n",
    "# wuth that i can see how much of the traffic of a bot was generated by another bot\n",
    "bot_count = pd.DataFrame(only_bots.groupby('text').size().reset_index(name='bot_count'))\n",
    "only_bots = only_bots.merge(bot_count, 'left', on = 'text')\n",
    "only_bots['bot_traffic'] = only_bots['bot_count'] / only_bots['counts']"
   ]
  },
  {
   "cell_type": "markdown",
   "metadata": {},
   "source": [
    "### mean percentage of bot traffic due to bots"
   ]
  },
  {
   "cell_type": "code",
   "execution_count": 169,
   "metadata": {},
   "outputs": [
    {
     "name": "stdout",
     "output_type": "stream",
     "text": [
      "mean percentage of bot traffic due to bots, ergo how many of the bots retweets are due to bots 0.6\n",
      "mean percentage of bot traffic when bot original post due to bots, ergo how many of the bots retweets are due to bots 0.78\n"
     ]
    }
   ],
   "source": [
    "print('mean percentage of bot traffic due to bots, ergo how many of the bots retweets are due to bots', \n",
    "     round(np.mean(only_bots['bot_traffic']), 2))\n",
    "print('mean percentage of bot traffic when bot original post due to bots, ergo how many of the bots retweets are due to bots', \n",
    "     round(np.mean(only_bots['bot_traffic'][only_bots['OG'] == 1]), 2))"
   ]
  },
  {
   "cell_type": "markdown",
   "metadata": {},
   "source": [
    "# US"
   ]
  },
  {
   "cell_type": "code",
   "execution_count": 248,
   "metadata": {},
   "outputs": [],
   "source": [
    "US_fake_news = pd.read_csv('US_one_month.csv')\n",
    "US_fake_news['screen_name_low'] = US_fake_news['user_screen_name'].str.lower() # make name in OG date lowerstring "
   ]
  },
  {
   "cell_type": "code",
   "execution_count": 250,
   "metadata": {},
   "outputs": [
    {
     "data": {
      "text/plain": [
       "['ten_gop', 'crystal1johnson', 'pamela_moore13', 'southlonestar']"
      ]
     },
     "execution_count": 250,
     "metadata": {},
     "output_type": "execute_result"
    }
   ],
   "source": [
    "screen_names_US = set(list(US_fake_news['screen_name_low']))\n",
    "# create list of all bots account in brexit data\n",
    "# it is all lower case. remember when merging\n",
    "bot_acc_US = []\n",
    "for i in screen_names_US:\n",
    "    if i in russia_acc_low:\n",
    "        bot_acc_US.append(i) # list of bots in data set\n",
    "\n",
    "bot_acc_US"
   ]
  },
  {
   "cell_type": "code",
   "execution_count": null,
   "metadata": {},
   "outputs": [],
   "source": [
    "bot_df_US = pd.DataFrame(bot_acc_US)\n",
    "bot_df_US['bot'] = 1\n",
    "bot_df_US.columns = ['screen_name_low', 'bot']\n",
    "US_bots = US_fake_news.merge(bot_df_US, \"left\", on = 'screen_name_low')"
   ]
  },
  {
   "cell_type": "markdown",
   "metadata": {},
   "source": [
    "# Mexico"
   ]
  },
  {
   "cell_type": "code",
   "execution_count": 212,
   "metadata": {},
   "outputs": [],
   "source": [
    "mexico = pd.read_csv('Mexico_tweets.csv')\n",
    "mexico['screen_name_low'] = mexico['screen_name'].str.lower() # make name in OG date lowerstring \n",
    "mexico['screen_name_low'] = mexico['screen_name_low'].replace('@', '', regex=True) # remove @ sign at beginning "
   ]
  },
  {
   "cell_type": "code",
   "execution_count": 247,
   "metadata": {},
   "outputs": [
    {
     "data": {
      "text/plain": [
       "[]"
      ]
     },
     "execution_count": 247,
     "metadata": {},
     "output_type": "execute_result"
    }
   ],
   "source": [
    "screen_names_mexico = set(list(mexico['screen_name_low']))\n",
    "# create list of all bots account in brexit data\n",
    "# it is all lower case. remember when merging\n",
    "bot_acc_mexico = []\n",
    "for i in screen_names_mexico:\n",
    "    if i in russia_acc_low:\n",
    "        bot_acc_mexico.append(i) # list of bots in data set\n",
    "bot_acc_mexico\n"
   ]
  }
 ],
 "metadata": {
  "kernelspec": {
   "display_name": "Python 3",
   "language": "python",
   "name": "python3"
  },
  "language_info": {
   "codemirror_mode": {
    "name": "ipython",
    "version": 3
   },
   "file_extension": ".py",
   "mimetype": "text/x-python",
   "name": "python",
   "nbconvert_exporter": "python",
   "pygments_lexer": "ipython3",
   "version": "3.6.3"
  }
 },
 "nbformat": 4,
 "nbformat_minor": 2
}
